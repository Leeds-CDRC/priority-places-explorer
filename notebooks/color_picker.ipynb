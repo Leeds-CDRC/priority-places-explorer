{
 "cells": [
  {
   "cell_type": "code",
   "execution_count": null,
   "id": "b4a558a3-023f-47cf-ac9b-3d06843982c8",
   "metadata": {},
   "outputs": [],
   "source": [
    "import matplotlib.pyplot"
   ]
  },
  {
   "cell_type": "code",
   "execution_count": null,
   "id": "a529bd80-0c7e-4760-a4ca-4561508a2fae",
   "metadata": {},
   "outputs": [],
   "source": [
    "import matplotlib\n",
    "import numpy as np\n",
    "\n",
    "cmap = matplotlib.cm.get_cmap('Blues_r')\n",
    "\n",
    "colors = [matplotlib.colors.to_hex(cmap(i)) for i in np.arange(0,1,0.08)]"
   ]
  },
  {
   "cell_type": "code",
   "execution_count": null,
   "id": "bf1ec60c-e35b-4cee-88c5-4561601f3e62",
   "metadata": {},
   "outputs": [],
   "source": [
    "colors"
   ]
  },
  {
   "cell_type": "code",
   "execution_count": null,
   "id": "c07d434d-3548-4b44-9850-3398ede20c91",
   "metadata": {},
   "outputs": [],
   "source": []
  }
 ],
 "metadata": {
  "kernelspec": {
   "display_name": "Python 3",
   "language": "python",
   "name": "python3"
  },
  "language_info": {
   "codemirror_mode": {
    "name": "ipython",
    "version": 3
   },
   "file_extension": ".py",
   "mimetype": "text/x-python",
   "name": "python",
   "nbconvert_exporter": "python",
   "pygments_lexer": "ipython3",
   "version": "3.11.0 (v3.11.0:deaf509e8f, Oct 24 2022, 14:43:23) [Clang 13.0.0 (clang-1300.0.29.30)]"
  },
  "vscode": {
   "interpreter": {
    "hash": "aee8b7b246df8f9039afb4144a1f6fd8d2ca17a180786b69acc140d282b71a49"
   }
  }
 },
 "nbformat": 4,
 "nbformat_minor": 5
}
