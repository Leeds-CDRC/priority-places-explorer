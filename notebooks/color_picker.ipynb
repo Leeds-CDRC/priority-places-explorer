{
 "cells": [
  {
   "cell_type": "code",
   "execution_count": 1,
   "id": "b4a558a3-023f-47cf-ac9b-3d06843982c8",
   "metadata": {},
   "outputs": [],
   "source": [
    "import matplotlib.pyplot"
   ]
  },
  {
   "cell_type": "code",
   "execution_count": 17,
   "id": "a529bd80-0c7e-4760-a4ca-4561508a2fae",
   "metadata": {},
   "outputs": [],
   "source": [
    "import matplotlib\n",
    "import numpy as np\n",
    "\n",
    "cmap = matplotlib.cm.get_cmap('plasma')\n",
    "\n",
    "colors = [matplotlib.colors.to_hex(cmap(i)) for i in np.arange(0,1,0.1)]"
   ]
  },
  {
   "cell_type": "code",
   "execution_count": 18,
   "id": "bf1ec60c-e35b-4cee-88c5-4561601f3e62",
   "metadata": {},
   "outputs": [
    {
     "data": {
      "text/plain": [
       "['#0d0887',\n",
       " '#41049d',\n",
       " '#6a00a8',\n",
       " '#8f0da4',\n",
       " '#b12a90',\n",
       " '#cc4778',\n",
       " '#e16462',\n",
       " '#f2844b',\n",
       " '#fca636',\n",
       " '#fcce25']"
      ]
     },
     "execution_count": 18,
     "metadata": {},
     "output_type": "execute_result"
    }
   ],
   "source": [
    "colors"
   ]
  },
  {
   "cell_type": "code",
   "execution_count": null,
   "id": "c07d434d-3548-4b44-9850-3398ede20c91",
   "metadata": {},
   "outputs": [],
   "source": []
  }
 ],
 "metadata": {
  "kernelspec": {
   "display_name": "geo_env",
   "language": "python",
   "name": "geo_env"
  },
  "language_info": {
   "codemirror_mode": {
    "name": "ipython",
    "version": 3
   },
   "file_extension": ".py",
   "mimetype": "text/x-python",
   "name": "python",
   "nbconvert_exporter": "python",
   "pygments_lexer": "ipython3",
   "version": "3.10.6"
  }
 },
 "nbformat": 4,
 "nbformat_minor": 5
}
