{
 "cells": [
  {
   "cell_type": "code",
   "execution_count": 2,
   "id": "718bcf67-39f4-40c1-9cde-edde08d7418f",
   "metadata": {},
   "outputs": [],
   "source": [
    "import geopandas as gpd\n",
    "\n",
    "data_directory = '../../../Data/PriorityPlacesData/'"
   ]
  },
  {
   "cell_type": "code",
   "execution_count": 3,
   "id": "3a863c5f-8100-428c-ad2c-77f14f72a760",
   "metadata": {},
   "outputs": [],
   "source": [
    "gdf = gpd.read_file(data_directory + 'SOA2011_Esri_Shapefile_0.zip')"
   ]
  },
  {
   "cell_type": "code",
   "execution_count": 10,
   "id": "1ea25e79-ed57-4ce9-9883-79d2f2fe2e37",
   "metadata": {},
   "outputs": [],
   "source": [
    "gdf.geometry = gdf.geometry.centroid"
   ]
  },
  {
   "cell_type": "code",
   "execution_count": 13,
   "id": "bb7460ed-f9c6-4fa6-985e-2cd06cfb9665",
   "metadata": {},
   "outputs": [],
   "source": [
    "gdf = gdf.to_crs(4326)\n",
    "gdf['lon'] = gdf.geometry.x\n",
    "gdf['lat'] = gdf.geometry.y"
   ]
  },
  {
   "cell_type": "code",
   "execution_count": 14,
   "id": "44d3b827-cdb7-4513-a0bd-2aacf4b415d4",
   "metadata": {},
   "outputs": [],
   "source": [
    "gdf.to_csv(data_directory + 'NI_SOA_centroids.csv')"
   ]
  },
  {
   "cell_type": "code",
   "execution_count": 15,
   "id": "2638084d-39b5-4e75-8e61-284f7d90cea9",
   "metadata": {},
   "outputs": [
    {
     "data": {
      "text/html": [
       "<div>\n",
       "<style scoped>\n",
       "    .dataframe tbody tr th:only-of-type {\n",
       "        vertical-align: middle;\n",
       "    }\n",
       "\n",
       "    .dataframe tbody tr th {\n",
       "        vertical-align: top;\n",
       "    }\n",
       "\n",
       "    .dataframe thead th {\n",
       "        text-align: right;\n",
       "    }\n",
       "</style>\n",
       "<table border=\"1\" class=\"dataframe\">\n",
       "  <thead>\n",
       "    <tr style=\"text-align: right;\">\n",
       "      <th></th>\n",
       "      <th>SOA_CODE</th>\n",
       "      <th>SOA_LABEL</th>\n",
       "      <th>geometry</th>\n",
       "      <th>lon</th>\n",
       "      <th>lat</th>\n",
       "    </tr>\n",
       "  </thead>\n",
       "  <tbody>\n",
       "    <tr>\n",
       "      <th>0</th>\n",
       "      <td>95AA01S1</td>\n",
       "      <td>Aldergrove_1</td>\n",
       "      <td>POINT (-6.21837 54.65504)</td>\n",
       "      <td>-6.218374</td>\n",
       "      <td>54.655037</td>\n",
       "    </tr>\n",
       "    <tr>\n",
       "      <th>1</th>\n",
       "      <td>95AA01S2</td>\n",
       "      <td>Aldergrove_2</td>\n",
       "      <td>POINT (-6.31805 54.63317)</td>\n",
       "      <td>-6.318048</td>\n",
       "      <td>54.633170</td>\n",
       "    </tr>\n",
       "    <tr>\n",
       "      <th>2</th>\n",
       "      <td>95AA01S3</td>\n",
       "      <td>Aldergrove_3</td>\n",
       "      <td>POINT (-6.19547 54.68074)</td>\n",
       "      <td>-6.195473</td>\n",
       "      <td>54.680738</td>\n",
       "    </tr>\n",
       "    <tr>\n",
       "      <th>3</th>\n",
       "      <td>95AA02W1</td>\n",
       "      <td>Balloo</td>\n",
       "      <td>POINT (-6.23775 54.70664)</td>\n",
       "      <td>-6.237751</td>\n",
       "      <td>54.706638</td>\n",
       "    </tr>\n",
       "    <tr>\n",
       "      <th>4</th>\n",
       "      <td>95AA03W1</td>\n",
       "      <td>Ballycraigy</td>\n",
       "      <td>POINT (-6.18438 54.70629)</td>\n",
       "      <td>-6.184375</td>\n",
       "      <td>54.706290</td>\n",
       "    </tr>\n",
       "    <tr>\n",
       "      <th>...</th>\n",
       "      <td>...</td>\n",
       "      <td>...</td>\n",
       "      <td>...</td>\n",
       "      <td>...</td>\n",
       "      <td>...</td>\n",
       "    </tr>\n",
       "    <tr>\n",
       "      <th>885</th>\n",
       "      <td>95ZZ14S1</td>\n",
       "      <td>South_1</td>\n",
       "      <td>POINT (-7.47644 54.81122)</td>\n",
       "      <td>-7.476439</td>\n",
       "      <td>54.811216</td>\n",
       "    </tr>\n",
       "    <tr>\n",
       "      <th>886</th>\n",
       "      <td>95ZZ14S2</td>\n",
       "      <td>South_2</td>\n",
       "      <td>POINT (-7.46700 54.81227)</td>\n",
       "      <td>-7.467001</td>\n",
       "      <td>54.812271</td>\n",
       "    </tr>\n",
       "    <tr>\n",
       "      <th>887</th>\n",
       "      <td>95ZZ15W1</td>\n",
       "      <td>Victoria Bridge</td>\n",
       "      <td>POINT (-7.43071 54.76963)</td>\n",
       "      <td>-7.430706</td>\n",
       "      <td>54.769634</td>\n",
       "    </tr>\n",
       "    <tr>\n",
       "      <th>888</th>\n",
       "      <td>95ZZ16S1</td>\n",
       "      <td>West_1</td>\n",
       "      <td>POINT (-7.48204 54.82108)</td>\n",
       "      <td>-7.482040</td>\n",
       "      <td>54.821076</td>\n",
       "    </tr>\n",
       "    <tr>\n",
       "      <th>889</th>\n",
       "      <td>95ZZ16S2</td>\n",
       "      <td>West_2</td>\n",
       "      <td>POINT (-7.47361 54.82444)</td>\n",
       "      <td>-7.473612</td>\n",
       "      <td>54.824437</td>\n",
       "    </tr>\n",
       "  </tbody>\n",
       "</table>\n",
       "<p>890 rows × 5 columns</p>\n",
       "</div>"
      ],
      "text/plain": [
       "     SOA_CODE        SOA_LABEL                   geometry       lon        lat\n",
       "0    95AA01S1     Aldergrove_1  POINT (-6.21837 54.65504) -6.218374  54.655037\n",
       "1    95AA01S2     Aldergrove_2  POINT (-6.31805 54.63317) -6.318048  54.633170\n",
       "2    95AA01S3     Aldergrove_3  POINT (-6.19547 54.68074) -6.195473  54.680738\n",
       "3    95AA02W1           Balloo  POINT (-6.23775 54.70664) -6.237751  54.706638\n",
       "4    95AA03W1      Ballycraigy  POINT (-6.18438 54.70629) -6.184375  54.706290\n",
       "..        ...              ...                        ...       ...        ...\n",
       "885  95ZZ14S1          South_1  POINT (-7.47644 54.81122) -7.476439  54.811216\n",
       "886  95ZZ14S2          South_2  POINT (-7.46700 54.81227) -7.467001  54.812271\n",
       "887  95ZZ15W1  Victoria Bridge  POINT (-7.43071 54.76963) -7.430706  54.769634\n",
       "888  95ZZ16S1           West_1  POINT (-7.48204 54.82108) -7.482040  54.821076\n",
       "889  95ZZ16S2           West_2  POINT (-7.47361 54.82444) -7.473612  54.824437\n",
       "\n",
       "[890 rows x 5 columns]"
      ]
     },
     "execution_count": 15,
     "metadata": {},
     "output_type": "execute_result"
    }
   ],
   "source": [
    "gdf"
   ]
  },
  {
   "cell_type": "code",
   "execution_count": null,
   "id": "3ca3ea4c-30a5-4f30-b304-b9a9c11f4f32",
   "metadata": {},
   "outputs": [],
   "source": []
  }
 ],
 "metadata": {
  "kernelspec": {
   "display_name": "geo_env",
   "language": "python",
   "name": "geo_env"
  },
  "language_info": {
   "codemirror_mode": {
    "name": "ipython",
    "version": 3
   },
   "file_extension": ".py",
   "mimetype": "text/x-python",
   "name": "python",
   "nbconvert_exporter": "python",
   "pygments_lexer": "ipython3",
   "version": "3.10.6"
  }
 },
 "nbformat": 4,
 "nbformat_minor": 5
}
