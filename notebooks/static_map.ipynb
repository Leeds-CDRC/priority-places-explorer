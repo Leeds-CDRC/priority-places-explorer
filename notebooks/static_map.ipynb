{
 "cells": [
  {
   "cell_type": "code",
   "execution_count": null,
   "id": "b439251d-bb72-4414-81e2-83cdbbe92b57",
   "metadata": {},
   "outputs": [],
   "source": [
    "import geopandas as gpd\n",
    "import pandas as pd\n",
    "import matplotlib.pyplot as plt"
   ]
  },
  {
   "cell_type": "code",
   "execution_count": null,
   "id": "261dc292-eb81-4d92-934d-2dac1499aede",
   "metadata": {},
   "outputs": [],
   "source": [
    "df = pd.read_csv('../data/priority_places_v1_3_decile_domains_WGS.csv', index_col=0)"
   ]
  },
  {
   "cell_type": "code",
   "execution_count": null,
   "id": "70de8ab4-9fb6-4582-9d28-ce056c81e2fb",
   "metadata": {},
   "outputs": [],
   "source": [
    "countries = pd.read_csv('../../../Data/PriorityPlacesData/Countries_(December_2021)_GB_BFC.zip')"
   ]
  },
  {
   "cell_type": "code",
   "execution_count": null,
   "id": "29c77497-5cac-4a35-9dc5-caba182f2c0d",
   "metadata": {},
   "outputs": [],
   "source": []
  },
  {
   "cell_type": "code",
   "execution_count": null,
   "id": "74138de0-7ff6-4e40-970a-160c65847951",
   "metadata": {},
   "outputs": [],
   "source": [
    "geo_ew = gpd.read_file('../../../Data/Lower_Layer_Super_Output_Areas_(December_2011)_Boundaries_Full_Extent_(BFE)_EW_V3.zip')"
   ]
  },
  {
   "cell_type": "code",
   "execution_count": null,
   "id": "a1749215-1410-4e46-b5ba-e49522306fab",
   "metadata": {},
   "outputs": [],
   "source": [
    "geo_eng = geo_ew[geo_ew['LSOA11CD'].str[0] == 'E']\n",
    "geo_eng = geo_eng.merge(df[['geo_code', 'combined']], how='inner', left_on='LSOA11CD', right_on='geo_code')\n",
    "geo_eng['pp'] = geo_eng['combined'].isin([1,2])\n",
    "geo_eng['color'] = geo_eng['pp'].apply(lambda x: '#0d0887' if x else 'none')\n",
    "geo_eng['one'] = 1\n",
    "boundary = geo_eng.dissolve(by='one')\n",
    "ax = boundary.plot(facecolor='0.8', linewidth=1)\n",
    "geo_eng.plot(facecolor=geo_eng[\"color\"], edgecolor='0.8', linewidth=0.2, ax=ax)\n",
    "ax.set_axis_off() \n",
    "plt.savefig('../../../Desktop/Eng.png', dpi=300)\n",
    "\n",
    "\n"
   ]
  },
  {
   "cell_type": "code",
   "execution_count": null,
   "id": "9c2906f5-ef72-419a-a368-fc5b774184e5",
   "metadata": {},
   "outputs": [],
   "source": [
    "geo_eng[geo_eng['LSOA11NM'].str.contains('Birmingham')].color.value_counts()"
   ]
  },
  {
   "cell_type": "code",
   "execution_count": null,
   "id": "bbe40f30-6b7f-4eec-a8fc-7bccd7f9feca",
   "metadata": {},
   "outputs": [],
   "source": [
    "geo_wal = geo_ew[geo_ew['LSOA11CD'].str[0] == 'W']\n",
    "geo_wal = geo_wal.merge(df[['geo_code', 'combined']], how='inner', left_on='LSOA11CD', right_on='geo_code')\n",
    "geo_wal['pp'] = geo_wal['combined'].isin([1,2])\n",
    "geo_wal['color'] = geo_wal['pp'].apply(lambda x: '#0d0887' if x else 'none')\n",
    "geo_wal['one'] = 1\n",
    "boundary = geo_wal.dissolve(by='one')\n",
    "ax = boundary.plot(facecolor='0.8', linewidth=1)\n",
    "geo_wal.plot(facecolor=geo_wal[\"color\"], edgecolor='0.8', linewidth=0.2, ax=ax)\n",
    "ax.set_axis_off() \n",
    "plt.savefig('../../../Desktop/Wal.png', dpi=300)\n"
   ]
  },
  {
   "cell_type": "code",
   "execution_count": null,
   "id": "bd03117e-f94d-4a70-89ba-e2c38fd1b096",
   "metadata": {},
   "outputs": [],
   "source": [
    "geo_wal.plot()"
   ]
  },
  {
   "cell_type": "code",
   "execution_count": null,
   "id": "2b042aec-199f-4582-ad9d-b9117a126142",
   "metadata": {},
   "outputs": [],
   "source": [
    "geo_scot = gpd.read_file('../../../Data/SG_DataZoneBdry_2011.zip')\n",
    "geo_scot = geo_scot.merge(df[['geo_code', 'combined']], how='inner', left_on='DataZone', right_on='geo_code')\n",
    "geo_scot['pp'] = geo_scot['combined'].isin([1,2])\n",
    "geo_scot['color'] = geo_scot['pp'].apply(lambda x: '#0d0887' if x else 'none')\n",
    "geo_scot['one'] = 1\n",
    "boundary = geo_scot.dissolve(by='one')\n",
    "ax = boundary.plot(facecolor='0.8', linewidth=1)\n",
    "geo_scot.plot(facecolor=geo_scot[\"color\"], edgecolor='0.8', linewidth=0.2, ax=ax)\n",
    "ax.set_axis_off() \n",
    "plt.savefig('../../../Desktop/Scot.png', dpi=300)"
   ]
  },
  {
   "cell_type": "code",
   "execution_count": null,
   "id": "c3cc2068-eb57-4993-a4df-253020dbda7c",
   "metadata": {},
   "outputs": [],
   "source": []
  },
  {
   "cell_type": "code",
   "execution_count": null,
   "id": "ee67a115-9eb9-421d-ae22-cf04d1d543b1",
   "metadata": {},
   "outputs": [],
   "source": []
  },
  {
   "cell_type": "code",
   "execution_count": null,
   "id": "779ab112-65c6-4902-8d32-c525f06d7741",
   "metadata": {},
   "outputs": [],
   "source": [
    "geo_ni = gpd.read_file('../../../Data/SOA2011_Esri_Shapefile_0.zip')\n",
    "geo_ni = geo_ni.merge(df[['geo_code', 'combined']], how='inner', left_on='SOA_CODE', right_on='geo_code')\n",
    "geo_ni['pp'] = geo_ni['combined'].isin([1,2])\n",
    "geo_ni['color'] = geo_ni['pp'].apply(lambda x: '#0d0887' if x else 'none')\n",
    "geo_ni['one'] = 1\n",
    "boundary = geo_ni.dissolve(by='one')\n",
    "ax = boundary.plot(facecolor='0.8', linewidth=1)\n",
    "geo_ni.plot(facecolor=geo_ni[\"color\"], edgecolor='0.8', linewidth=0.2, ax=ax)\n",
    "ax.set_axis_off() \n",
    "plt.savefig('../../../Desktop/NI.png', dpi=300)"
   ]
  },
  {
   "cell_type": "code",
   "execution_count": null,
   "id": "cdb9bbc3-0702-41fb-8eeb-33135878abde",
   "metadata": {},
   "outputs": [],
   "source": []
  },
  {
   "cell_type": "code",
   "execution_count": null,
   "id": "4b60bc42-958f-4653-9f28-cd1f0a3792cf",
   "metadata": {},
   "outputs": [],
   "source": []
  },
  {
   "cell_type": "code",
   "execution_count": null,
   "id": "0ebf39b6-0961-4a50-8683-5db4c37685a3",
   "metadata": {},
   "outputs": [],
   "source": []
  },
  {
   "cell_type": "code",
   "execution_count": null,
   "id": "8b991b07-619a-4168-a989-edca4e6c7cc1",
   "metadata": {},
   "outputs": [],
   "source": []
  }
 ],
 "metadata": {
  "kernelspec": {
   "display_name": "geo_env",
   "language": "python",
   "name": "geo_env"
  },
  "language_info": {
   "codemirror_mode": {
    "name": "ipython",
    "version": 3
   },
   "file_extension": ".py",
   "mimetype": "text/x-python",
   "name": "python",
   "nbconvert_exporter": "python",
   "pygments_lexer": "ipython3",
   "version": "3.10.6"
  }
 },
 "nbformat": 4,
 "nbformat_minor": 5
}
