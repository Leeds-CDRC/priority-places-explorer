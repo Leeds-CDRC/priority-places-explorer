{
 "cells": [
  {
   "cell_type": "code",
   "execution_count": 2,
   "id": "708936ef-0f1f-4d7a-82a5-83735d2cdfcc",
   "metadata": {},
   "outputs": [],
   "source": [
    "import pandas as pd\n",
    "data_directory = '../../../Data/PriorityPlacesData/'"
   ]
  },
  {
   "cell_type": "code",
   "execution_count": 3,
   "id": "1e995b63-5127-42fc-9bb9-ebf163b983ed",
   "metadata": {},
   "outputs": [],
   "source": [
    "scot_dz = pd.read_csv(data_directory + 'SG_DataZones_Centroids_2011.csv')\n",
    "ew_lsoa = pd.read_csv(data_directory + 'Lower_layer_Super_Output_Areas_(December_2011)_Population_Weighted_Centroids_WGS.csv')\n",
    "pp_data = pd.read_csv(data_directory + 'priority_places_v0_1_ranked_domains.csv')"
   ]
  },
  {
   "cell_type": "code",
   "execution_count": 7,
   "id": "6047b615-217c-406e-9c2f-4db998a957ce",
   "metadata": {},
   "outputs": [],
   "source": [
    "pp_data = pp_data.merge(ew_lsoa, left_on='geo_code', right_on='lsoa11cd', how='left')"
   ]
  },
  {
   "cell_type": "code",
   "execution_count": 9,
   "id": "d005117c-8737-43e7-854b-e8fdc2bab334",
   "metadata": {},
   "outputs": [],
   "source": [
    "pp_data = pp_data.merge(scot_dz, left_on='geo_code', right_on='DataZone', how='left')"
   ]
  },
  {
   "cell_type": "code",
   "execution_count": 11,
   "id": "3154c976-c99f-4edc-bdd7-f7f251b64419",
   "metadata": {},
   "outputs": [],
   "source": [
    "pp_data['longitude'] = pp_data['longitude_x'].fillna(pp_data['longitude_y'])\n",
    "pp_data['latitude'] = pp_data['latitude_x'].fillna(pp_data['latitude_y'])"
   ]
  },
  {
   "cell_type": "code",
   "execution_count": 22,
   "id": "6f424fad-3a22-4bce-a8f3-a528be319f7a",
   "metadata": {},
   "outputs": [],
   "source": [
    "pp_data[['geo_code', 'longitude', 'latitude'] + pp_data.columns[pp_data.columns.str.startswith('domain')].tolist()].to_csv(data_directory + 'priority_places_v0_1_ranked_domains_WGS.csv', index=False)"
   ]
  },
  {
   "cell_type": "code",
   "execution_count": null,
   "id": "79c08aa8-ae3a-4d0d-9e98-6d07be080183",
   "metadata": {},
   "outputs": [],
   "source": []
  }
 ],
 "metadata": {
  "kernelspec": {
   "display_name": "geo_env",
   "language": "python",
   "name": "geo_env"
  },
  "language_info": {
   "codemirror_mode": {
    "name": "ipython",
    "version": 3
   },
   "file_extension": ".py",
   "mimetype": "text/x-python",
   "name": "python",
   "nbconvert_exporter": "python",
   "pygments_lexer": "ipython3",
   "version": "3.10.6"
  }
 },
 "nbformat": 4,
 "nbformat_minor": 5
}
