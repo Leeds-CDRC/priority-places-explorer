{
 "cells": [
  {
   "cell_type": "code",
   "execution_count": 11,
   "id": "2b7a04bd-dc97-419f-988b-0585260ae188",
   "metadata": {},
   "outputs": [],
   "source": [
    "import pandas as pd"
   ]
  },
  {
   "cell_type": "code",
   "execution_count": 12,
   "id": "25a74ea1-0508-42b5-88cf-8fb6e9547782",
   "metadata": {},
   "outputs": [],
   "source": [
    "df = pd.read_csv('../../../Data/PriorityPlacesData/priority_places_domain_ranks_v1_3.csv')"
   ]
  },
  {
   "cell_type": "code",
   "execution_count": 13,
   "id": "a6c0312b-f2b8-4b03-9503-8a6b2592cd38",
   "metadata": {},
   "outputs": [],
   "source": [
    "df.loc[df['country']=='9', 'country'] = 'NI'"
   ]
  },
  {
   "cell_type": "code",
   "execution_count": 14,
   "id": "3f92d2f5-5828-42e7-9c83-e64d53e63bc2",
   "metadata": {},
   "outputs": [
    {
     "data": {
      "text/plain": [
       "Index(['geo_code', 'domain_supermarket_proximity',\n",
       "       'domain_supermarket_accessibility', 'domain_ecommerce_access',\n",
       "       'domain_socio_demographic', 'domain_nonsupermarket_proximity',\n",
       "       'domain_food_for_families', 'domain_fuel_poverty', 'country',\n",
       "       'country_denominator', 'combined'],\n",
       "      dtype='object')"
      ]
     },
     "execution_count": 14,
     "metadata": {},
     "output_type": "execute_result"
    }
   ],
   "source": [
    "df.columns"
   ]
  },
  {
   "cell_type": "code",
   "execution_count": 15,
   "id": "eb60e9c8-427b-4bcb-a3c2-5b4868c9fec6",
   "metadata": {},
   "outputs": [],
   "source": [
    "ni_missing_domains = ['domain_ecommerce_access', 'domain_supermarket_transport', 'domain_fuel_poverty']\n",
    "df.loc[df['country']=='NI', ni_missing_domains] = 'NA'"
   ]
  },
  {
   "cell_type": "code",
   "execution_count": 16,
   "id": "df337ca6-3ba9-4afe-9d20-60c212a32291",
   "metadata": {},
   "outputs": [],
   "source": [
    "df.to_csv('../../../Data/PriorityPlacesData/priority_places_for_food_Oct22.csv', index=False)"
   ]
  },
  {
   "cell_type": "code",
   "execution_count": null,
   "id": "f618ee36-d7b8-494c-9291-8cc39ae43936",
   "metadata": {},
   "outputs": [],
   "source": []
  }
 ],
 "metadata": {
  "kernelspec": {
   "display_name": "Python 3 (ipykernel)",
   "language": "python",
   "name": "python3"
  },
  "language_info": {
   "codemirror_mode": {
    "name": "ipython",
    "version": 3
   },
   "file_extension": ".py",
   "mimetype": "text/x-python",
   "name": "python",
   "nbconvert_exporter": "python",
   "pygments_lexer": "ipython3",
   "version": "3.9.12"
  }
 },
 "nbformat": 4,
 "nbformat_minor": 5
}
