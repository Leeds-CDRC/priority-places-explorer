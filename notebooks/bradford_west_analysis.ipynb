{
 "cells": [
  {
   "cell_type": "code",
   "execution_count": null,
   "id": "e02e6351-fe3e-41c6-8939-039657e2298c",
   "metadata": {},
   "outputs": [],
   "source": [
    "import pandas as pd\n",
    "import matplotlib.pyplot as plt"
   ]
  },
  {
   "cell_type": "code",
   "execution_count": null,
   "id": "17883e11-a830-4cd0-adca-3e5e4366d0af",
   "metadata": {},
   "outputs": [],
   "source": [
    "data_directory = '../../../Data/PriorityPlacesData/'\n",
    "oa_lookup = pd.read_csv(data_directory + 'OAs_(2021)_to_Westminster_Parliamentary_Constituency_to_Regions_(May_2022)_Lookup_in_England_and_Wales.csv', low_memory=False)\n",
    "lsoa_lookup = pd.read_csv(data_directory + 'PCD_OA_LSOA_MSOA_LAD_AUG21_UK_LU.csv', low_memory=False, encoding='ISO-8859-1')\n",
    "oa11_to_oa21_lookup = pd.read_csv(data_directory + 'OA_(2011)_to_OA_(2021)_to_Local_Authority_District_(2022)_for_England_and_Wales_Lookup.csv', low_memory=False)"
   ]
  },
  {
   "cell_type": "code",
   "execution_count": null,
   "id": "3049f00f-6380-4036-ad0c-0df7cdde9971",
   "metadata": {},
   "outputs": [],
   "source": [
    "bradford_west_oa21cds = oa_lookup[oa_lookup['WPC22NM']=='Bradford West'].OA21CD\n",
    "print('Number of Bradford West OA21CDS: %d' % bradford_west_oa21cds.shape)\n",
    "oa11_to_oa21_lookup_wb = oa11_to_oa21_lookup[oa11_to_oa21_lookup['OA21CD'].isin(bradford_west_oa21cds)]\n",
    "print('Number of Bradford West OA11CDS: %d' % oa11_to_oa21_lookup_wb['OA11CD'].shape)"
   ]
  },
  {
   "cell_type": "code",
   "execution_count": null,
   "id": "d64eb38a-2256-4231-a47d-d97e70330fb4",
   "metadata": {},
   "outputs": [],
   "source": [
    "lsoa_lookup_bw = lsoa_lookup[lsoa_lookup['oa11cd'].isin(oa11_to_oa21_lookup_wb.OA11CD.values)]\n",
    "print('Number of Bradford West OA11CDs matched on LSOA lookup: %d' % lsoa_lookup_bw['oa11cd'].nunique())\n",
    "print('Number of Bradford West LSOA11CDs matched on LSOA lookup: %d' % lsoa_lookup_bw['lsoa11cd'].nunique())\n"
   ]
  },
  {
   "cell_type": "code",
   "execution_count": null,
   "id": "7a7985c2-53b2-444b-8d58-5f009ca2ff67",
   "metadata": {},
   "outputs": [],
   "source": [
    "bw_lsoa11cds = lsoa_lookup_bw['lsoa11cd'].unique()"
   ]
  },
  {
   "cell_type": "code",
   "execution_count": null,
   "id": "cc41041c-02fa-4730-b7f6-33241f1a2ae3",
   "metadata": {},
   "outputs": [],
   "source": [
    "bw_lsoa11cds"
   ]
  },
  {
   "cell_type": "code",
   "execution_count": null,
   "id": "ea615192-8d05-49e2-a908-725495e6e06d",
   "metadata": {},
   "outputs": [],
   "source": [
    "pp_data = pd.read_csv('../data/priority_places_v1_3_decile_domains_WGS.csv',\n",
    "                    dtype={'domain_supermarket_proximity':'category',\n",
    "                        'domain_supermarket_transport':'category',\n",
    "                        'domain_ecommerce_access':'category',\n",
    "                        'domain_socio_demographic':'category',\n",
    "                        'domain_nonsupermarket_proximity':'category',\n",
    "                        'domain_food_for_families':'category',\n",
    "                        'domain_fuel_poverty':'category', \n",
    "                        'combined': 'category'}\n",
    ")"
   ]
  },
  {
   "cell_type": "code",
   "execution_count": null,
   "id": "ea9df473-6f2d-4cc7-ac65-d4d3676e0047",
   "metadata": {},
   "outputs": [],
   "source": [
    "bw_pp = pp_data[pp_data.geo_code.isin(bw_lsoa11cds)]"
   ]
  },
  {
   "cell_type": "code",
   "execution_count": null,
   "id": "b283b004-cc9e-4955-87e4-b94b2ba91bd9",
   "metadata": {},
   "outputs": [],
   "source": [
    "domains = ['domain_supermarket_proximity',\n",
    "          'domain_supermarket_accessibility',\n",
    "          'domain_ecommerce_access',\n",
    "          'domain_socio_demographic',\n",
    "          'domain_nonsupermarket_proximity',\n",
    "          'domain_food_for_families',\n",
    "          'domain_fuel_poverty', \n",
    "          'combined']\n",
    "\n",
    "fig, axs = plt.subplots(8,1,figsize=(4,24))\n",
    "\n",
    "\n",
    "c = 0\n",
    "for d in domains:\n",
    "    bw_pp[d].astype(int).hist(ax=axs[c], bins=[0,1,2,3,4,5,6,7,8,9,10])\n",
    "    axs[c].set_title(d)\n",
    "    c+=1\n",
    "    plt.tight_layout()\n",
    "    "
   ]
  },
  {
   "cell_type": "code",
   "execution_count": null,
   "id": "0a5c827e-e2a9-4891-a731-5f52cdc3bce4",
   "metadata": {},
   "outputs": [],
   "source": [
    "bw_pp.combined.value_counts()"
   ]
  },
  {
   "cell_type": "code",
   "execution_count": null,
   "id": "bafbe182-8b1f-4047-9eb8-c1db84f81aff",
   "metadata": {},
   "outputs": [],
   "source": [
    "bw_pp.shape"
   ]
  },
  {
   "cell_type": "code",
   "execution_count": null,
   "id": "840bb70a-347f-49b8-930b-cbbc653cf046",
   "metadata": {},
   "outputs": [],
   "source": []
  }
 ],
 "metadata": {
  "kernelspec": {
   "display_name": "Python 3 (ipykernel)",
   "language": "python",
   "name": "python3"
  },
  "language_info": {
   "codemirror_mode": {
    "name": "ipython",
    "version": 3
   },
   "file_extension": ".py",
   "mimetype": "text/x-python",
   "name": "python",
   "nbconvert_exporter": "python",
   "pygments_lexer": "ipython3",
   "version": "3.9.12"
  }
 },
 "nbformat": 4,
 "nbformat_minor": 5
}
