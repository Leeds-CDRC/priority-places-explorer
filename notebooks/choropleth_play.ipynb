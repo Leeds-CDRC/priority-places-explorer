{
 "cells": [
  {
   "cell_type": "code",
   "execution_count": 1,
   "id": "49cee909-cdba-42cd-9ced-8c97bf403fa3",
   "metadata": {},
   "outputs": [],
   "source": [
    "import geopandas as gpd\n",
    "import pandas as pd"
   ]
  },
  {
   "cell_type": "code",
   "execution_count": 2,
   "id": "5c2c8552-fe4a-4155-a117-6875084e2391",
   "metadata": {},
   "outputs": [],
   "source": [
    "data_directory = '../../../Data/PriorityPlacesData/'"
   ]
  },
  {
   "cell_type": "code",
   "execution_count": 3,
   "id": "03b690bf-9b29-4e60-867d-dc473e97b0c8",
   "metadata": {},
   "outputs": [],
   "source": [
    "gdf = gpd.read_file(data_directory + 'Lower_Layer_Super_Output_Areas_(December_2011)_Boundaries_Super_Generalised_Clipped_(BSC)_EW_V3.geojson')"
   ]
  },
  {
   "cell_type": "code",
   "execution_count": 6,
   "id": "f4e811ea-4e9b-4912-af8b-c63779ed6d6b",
   "metadata": {},
   "outputs": [],
   "source": [
    "df = pd.read_csv('../data/priority_places_v1_0_decile_domains_WGS.csv', index_col=0)"
   ]
  },
  {
   "cell_type": "code",
   "execution_count": 8,
   "id": "7991b850-21e3-4abb-bf44-d2a492b8a06a",
   "metadata": {},
   "outputs": [
    {
     "data": {
      "text/html": [
       "<div>\n",
       "<style scoped>\n",
       "    .dataframe tbody tr th:only-of-type {\n",
       "        vertical-align: middle;\n",
       "    }\n",
       "\n",
       "    .dataframe tbody tr th {\n",
       "        vertical-align: top;\n",
       "    }\n",
       "\n",
       "    .dataframe thead th {\n",
       "        text-align: right;\n",
       "    }\n",
       "</style>\n",
       "<table border=\"1\" class=\"dataframe\">\n",
       "  <thead>\n",
       "    <tr style=\"text-align: right;\">\n",
       "      <th></th>\n",
       "      <th>OBJECTID</th>\n",
       "      <th>LSOA11CD</th>\n",
       "      <th>LSOA11NM</th>\n",
       "      <th>LSOA11NMW</th>\n",
       "      <th>BNG_E</th>\n",
       "      <th>BNG_N</th>\n",
       "      <th>LONG</th>\n",
       "      <th>LAT</th>\n",
       "      <th>Shape__Area</th>\n",
       "      <th>Shape__Length</th>\n",
       "      <th>geometry</th>\n",
       "    </tr>\n",
       "  </thead>\n",
       "  <tbody>\n",
       "    <tr>\n",
       "      <th>0</th>\n",
       "      <td>1</td>\n",
       "      <td>E01000001</td>\n",
       "      <td>City of London 001A</td>\n",
       "      <td>City of London 001A</td>\n",
       "      <td>532129</td>\n",
       "      <td>181625</td>\n",
       "      <td>-0.097060</td>\n",
       "      <td>51.51810</td>\n",
       "      <td>1.577945e+05</td>\n",
       "      <td>1685.391778</td>\n",
       "      <td>POLYGON ((-0.09474 51.52060, -0.09546 51.51544...</td>\n",
       "    </tr>\n",
       "    <tr>\n",
       "      <th>1</th>\n",
       "      <td>2</td>\n",
       "      <td>E01000002</td>\n",
       "      <td>City of London 001B</td>\n",
       "      <td>City of London 001B</td>\n",
       "      <td>532480</td>\n",
       "      <td>181699</td>\n",
       "      <td>-0.091970</td>\n",
       "      <td>51.51868</td>\n",
       "      <td>1.648824e+05</td>\n",
       "      <td>1804.828196</td>\n",
       "      <td>POLYGON ((-0.08810 51.51941, -0.09546 51.51544...</td>\n",
       "    </tr>\n",
       "    <tr>\n",
       "      <th>2</th>\n",
       "      <td>3</td>\n",
       "      <td>E01000003</td>\n",
       "      <td>City of London 001C</td>\n",
       "      <td>City of London 001C</td>\n",
       "      <td>532245</td>\n",
       "      <td>182036</td>\n",
       "      <td>-0.095230</td>\n",
       "      <td>51.52176</td>\n",
       "      <td>4.221981e+04</td>\n",
       "      <td>909.223277</td>\n",
       "      <td>POLYGON ((-0.09453 51.52205, -0.09274 51.52139...</td>\n",
       "    </tr>\n",
       "    <tr>\n",
       "      <th>3</th>\n",
       "      <td>4</td>\n",
       "      <td>E01000005</td>\n",
       "      <td>City of London 001E</td>\n",
       "      <td>City of London 001E</td>\n",
       "      <td>533581</td>\n",
       "      <td>181265</td>\n",
       "      <td>-0.076280</td>\n",
       "      <td>51.51452</td>\n",
       "      <td>2.126824e+05</td>\n",
       "      <td>2028.654904</td>\n",
       "      <td>POLYGON ((-0.07589 51.51590, -0.07394 51.51445...</td>\n",
       "    </tr>\n",
       "    <tr>\n",
       "      <th>4</th>\n",
       "      <td>5</td>\n",
       "      <td>E01000006</td>\n",
       "      <td>Barking and Dagenham 016A</td>\n",
       "      <td>Barking and Dagenham 016A</td>\n",
       "      <td>544994</td>\n",
       "      <td>184276</td>\n",
       "      <td>0.089318</td>\n",
       "      <td>51.53876</td>\n",
       "      <td>1.305514e+05</td>\n",
       "      <td>1716.896118</td>\n",
       "      <td>POLYGON ((0.09328 51.53787, 0.09363 51.53767, ...</td>\n",
       "    </tr>\n",
       "    <tr>\n",
       "      <th>...</th>\n",
       "      <td>...</td>\n",
       "      <td>...</td>\n",
       "      <td>...</td>\n",
       "      <td>...</td>\n",
       "      <td>...</td>\n",
       "      <td>...</td>\n",
       "      <td>...</td>\n",
       "      <td>...</td>\n",
       "      <td>...</td>\n",
       "      <td>...</td>\n",
       "      <td>...</td>\n",
       "    </tr>\n",
       "    <tr>\n",
       "      <th>34748</th>\n",
       "      <td>34749</td>\n",
       "      <td>W01001954</td>\n",
       "      <td>Cardiff 006F</td>\n",
       "      <td>Caerdydd 006F</td>\n",
       "      <td>312960</td>\n",
       "      <td>180568</td>\n",
       "      <td>-3.255810</td>\n",
       "      <td>51.51730</td>\n",
       "      <td>7.858948e+05</td>\n",
       "      <td>4145.419769</td>\n",
       "      <td>POLYGON ((-3.25519 51.52195, -3.24752 51.51667...</td>\n",
       "    </tr>\n",
       "    <tr>\n",
       "      <th>34749</th>\n",
       "      <td>34750</td>\n",
       "      <td>W01001955</td>\n",
       "      <td>Swansea 025F</td>\n",
       "      <td>Abertawe 025F</td>\n",
       "      <td>265633</td>\n",
       "      <td>193182</td>\n",
       "      <td>-3.942370</td>\n",
       "      <td>51.62137</td>\n",
       "      <td>6.825915e+05</td>\n",
       "      <td>4147.917682</td>\n",
       "      <td>POLYGON ((-3.93608 51.62499, -3.93505 51.62182...</td>\n",
       "    </tr>\n",
       "    <tr>\n",
       "      <th>34750</th>\n",
       "      <td>34751</td>\n",
       "      <td>W01001956</td>\n",
       "      <td>Swansea 023E</td>\n",
       "      <td>Abertawe 023E</td>\n",
       "      <td>260583</td>\n",
       "      <td>192617</td>\n",
       "      <td>-4.015040</td>\n",
       "      <td>51.61507</td>\n",
       "      <td>2.455263e+06</td>\n",
       "      <td>10720.789835</td>\n",
       "      <td>POLYGON ((-4.02282 51.63539, -4.01794 51.63261...</td>\n",
       "    </tr>\n",
       "    <tr>\n",
       "      <th>34751</th>\n",
       "      <td>34752</td>\n",
       "      <td>W01001957</td>\n",
       "      <td>Swansea 025G</td>\n",
       "      <td>Abertawe 025G</td>\n",
       "      <td>265334</td>\n",
       "      <td>192555</td>\n",
       "      <td>-3.946440</td>\n",
       "      <td>51.61567</td>\n",
       "      <td>2.197537e+05</td>\n",
       "      <td>1984.338213</td>\n",
       "      <td>POLYGON ((-3.95132 51.61416, -3.95251 51.61547...</td>\n",
       "    </tr>\n",
       "    <tr>\n",
       "      <th>34752</th>\n",
       "      <td>34753</td>\n",
       "      <td>W01001958</td>\n",
       "      <td>Swansea 025H</td>\n",
       "      <td>Abertawe 025H</td>\n",
       "      <td>266265</td>\n",
       "      <td>192629</td>\n",
       "      <td>-3.933030</td>\n",
       "      <td>51.61655</td>\n",
       "      <td>3.311670e+05</td>\n",
       "      <td>4161.361524</td>\n",
       "      <td>POLYGON ((-3.92855 51.61330, -3.92825 51.61023...</td>\n",
       "    </tr>\n",
       "  </tbody>\n",
       "</table>\n",
       "<p>34753 rows × 11 columns</p>\n",
       "</div>"
      ],
      "text/plain": [
       "       OBJECTID   LSOA11CD                   LSOA11NM  \\\n",
       "0             1  E01000001        City of London 001A   \n",
       "1             2  E01000002        City of London 001B   \n",
       "2             3  E01000003        City of London 001C   \n",
       "3             4  E01000005        City of London 001E   \n",
       "4             5  E01000006  Barking and Dagenham 016A   \n",
       "...         ...        ...                        ...   \n",
       "34748     34749  W01001954               Cardiff 006F   \n",
       "34749     34750  W01001955               Swansea 025F   \n",
       "34750     34751  W01001956               Swansea 023E   \n",
       "34751     34752  W01001957               Swansea 025G   \n",
       "34752     34753  W01001958               Swansea 025H   \n",
       "\n",
       "                       LSOA11NMW   BNG_E   BNG_N      LONG       LAT  \\\n",
       "0            City of London 001A  532129  181625 -0.097060  51.51810   \n",
       "1            City of London 001B  532480  181699 -0.091970  51.51868   \n",
       "2            City of London 001C  532245  182036 -0.095230  51.52176   \n",
       "3            City of London 001E  533581  181265 -0.076280  51.51452   \n",
       "4      Barking and Dagenham 016A  544994  184276  0.089318  51.53876   \n",
       "...                          ...     ...     ...       ...       ...   \n",
       "34748              Caerdydd 006F  312960  180568 -3.255810  51.51730   \n",
       "34749              Abertawe 025F  265633  193182 -3.942370  51.62137   \n",
       "34750              Abertawe 023E  260583  192617 -4.015040  51.61507   \n",
       "34751              Abertawe 025G  265334  192555 -3.946440  51.61567   \n",
       "34752              Abertawe 025H  266265  192629 -3.933030  51.61655   \n",
       "\n",
       "        Shape__Area  Shape__Length  \\\n",
       "0      1.577945e+05    1685.391778   \n",
       "1      1.648824e+05    1804.828196   \n",
       "2      4.221981e+04     909.223277   \n",
       "3      2.126824e+05    2028.654904   \n",
       "4      1.305514e+05    1716.896118   \n",
       "...             ...            ...   \n",
       "34748  7.858948e+05    4145.419769   \n",
       "34749  6.825915e+05    4147.917682   \n",
       "34750  2.455263e+06   10720.789835   \n",
       "34751  2.197537e+05    1984.338213   \n",
       "34752  3.311670e+05    4161.361524   \n",
       "\n",
       "                                                geometry  \n",
       "0      POLYGON ((-0.09474 51.52060, -0.09546 51.51544...  \n",
       "1      POLYGON ((-0.08810 51.51941, -0.09546 51.51544...  \n",
       "2      POLYGON ((-0.09453 51.52205, -0.09274 51.52139...  \n",
       "3      POLYGON ((-0.07589 51.51590, -0.07394 51.51445...  \n",
       "4      POLYGON ((0.09328 51.53787, 0.09363 51.53767, ...  \n",
       "...                                                  ...  \n",
       "34748  POLYGON ((-3.25519 51.52195, -3.24752 51.51667...  \n",
       "34749  POLYGON ((-3.93608 51.62499, -3.93505 51.62182...  \n",
       "34750  POLYGON ((-4.02282 51.63539, -4.01794 51.63261...  \n",
       "34751  POLYGON ((-3.95132 51.61416, -3.95251 51.61547...  \n",
       "34752  POLYGON ((-3.92855 51.61330, -3.92825 51.61023...  \n",
       "\n",
       "[34753 rows x 11 columns]"
      ]
     },
     "execution_count": 8,
     "metadata": {},
     "output_type": "execute_result"
    }
   ],
   "source": [
    "gdf"
   ]
  },
  {
   "cell_type": "code",
   "execution_count": 9,
   "id": "51dfef3c-0bac-42e9-b34b-8f343dfcd238",
   "metadata": {},
   "outputs": [],
   "source": [
    "gdf = df.merge(gdf, left_on='geo_code', right_on='LSOA11CD', how='left', indicator=True)"
   ]
  },
  {
   "cell_type": "code",
   "execution_count": 11,
   "id": "43e6eacd-134b-4e92-a332-d4a475674dcb",
   "metadata": {},
   "outputs": [
    {
     "data": {
      "text/plain": [
       "both          34752\n",
       "left_only      6976\n",
       "right_only        0\n",
       "Name: _merge, dtype: int64"
      ]
     },
     "execution_count": 11,
     "metadata": {},
     "output_type": "execute_result"
    }
   ],
   "source": [
    "gdf._merge.value_counts()"
   ]
  },
  {
   "cell_type": "code",
   "execution_count": 15,
   "id": "4e88947f-0ed7-4bba-9d90-b2613c635cd8",
   "metadata": {},
   "outputs": [
    {
     "data": {
      "text/plain": [
       "pandas.core.frame.DataFrame"
      ]
     },
     "execution_count": 15,
     "metadata": {},
     "output_type": "execute_result"
    }
   ],
   "source": [
    "type(gdf)"
   ]
  },
  {
   "cell_type": "code",
   "execution_count": 14,
   "id": "d633e707-4e7c-4516-a735-3aa171817926",
   "metadata": {},
   "outputs": [
    {
     "data": {
      "text/plain": [
       "<AxesSubplot:>"
      ]
     },
     "execution_count": 14,
     "metadata": {},
     "output_type": "execute_result"
    },
    {
     "data": {
      "image/png": "[encoded data removed]",
      "text/plain": [
       "<Figure size 640x480 with 1 Axes>"
      ]
     },
     "metadata": {},
     "output_type": "display_data"
    }
   ],
   "source": [
    "gdf.plot()"
   ]
  },
  {
   "cell_type": "code",
   "execution_count": null,
   "id": "f78945d7-5a04-45db-94c0-3bfe17fdd250",
   "metadata": {},
   "outputs": [],
   "source": []
  }
 ],
 "metadata": {
  "kernelspec": {
   "display_name": "geo_env",
   "language": "python",
   "name": "geo_env"
  },
  "language_info": {
   "codemirror_mode": {
    "name": "ipython",
    "version": 3
   },
   "file_extension": ".py",
   "mimetype": "text/x-python",
   "name": "python",
   "nbconvert_exporter": "python",
   "pygments_lexer": "ipython3",
   "version": "3.10.6"
  }
 },
 "nbformat": 4,
 "nbformat_minor": 5
}
