{
 "cells": [
  {
   "cell_type": "code",
   "execution_count": 1,
   "id": "4d113be9-43fa-429f-b2c4-0538d60c6920",
   "metadata": {},
   "outputs": [],
   "source": [
    "import geopandas as gpd\n",
    "import pandas as pd"
   ]
  },
  {
   "cell_type": "code",
   "execution_count": 2,
   "id": "e1e76394-c32e-4a9b-b49a-543463160964",
   "metadata": {},
   "outputs": [],
   "source": [
    "df = pd.read_csv('/Users/pete/Desktop/GEOLYTIX - UK RetailPoints/uk_glx_open_retail_points_v24_202206.csv')"
   ]
  },
  {
   "cell_type": "code",
   "execution_count": 3,
   "id": "eca2c874-3be8-4e3a-b5df-4e2cd93fcd24",
   "metadata": {},
   "outputs": [
    {
     "data": {
      "text/plain": [
       "(17587, 17)"
      ]
     },
     "execution_count": 3,
     "metadata": {},
     "output_type": "execute_result"
    }
   ],
   "source": [
    "df.shape"
   ]
  },
  {
   "cell_type": "code",
   "execution_count": 4,
   "id": "7dbe02d8-83a9-469e-a91d-f4efe79b6163",
   "metadata": {},
   "outputs": [],
   "source": [
    "df.loc[df['size_band']=='< 3,013 ft2 (280m2)','size_code'] = 'Small convenience'\n",
    "df.loc[df['size_band']=='3,013 < 15,069 ft2 (280 < 1,400 m2)', 'size_code'] = 'Mid-size'\n",
    "df.loc[df['size_band']=='15,069 < 30,138 ft2 (1,400 < 2,800 m2)', 'size_code'] = 'Large'\n",
    "df.loc[df['size_band']=='30,138 ft2 > (2,800 m2)', 'size_code'] = 'Very large'\n"
   ]
  },
  {
   "cell_type": "code",
   "execution_count": 5,
   "id": "22616552-e0a8-46d9-b438-f9d5dda86373",
   "metadata": {},
   "outputs": [
    {
     "data": {
      "text/plain": [
       "size_band                               size_code        \n",
       "< 3,013 ft2 (280m2)                     Small convenience    9195\n",
       "3,013 < 15,069 ft2 (280 < 1,400 m2)     Mid-size             5677\n",
       "30,138 ft2 > (2,800 m2)                 Very large           1425\n",
       "15,069 < 30,138 ft2 (1,400 < 2,800 m2)  Large                1290\n",
       "dtype: int64"
      ]
     },
     "execution_count": 5,
     "metadata": {},
     "output_type": "execute_result"
    }
   ],
   "source": [
    "df[['size_band', 'size_code']].value_counts()"
   ]
  },
  {
   "cell_type": "code",
   "execution_count": 6,
   "id": "b14ebe67-a5f6-4a2b-ba98-d3cc8cae13f3",
   "metadata": {},
   "outputs": [],
   "source": [
    "gdf = gpd.GeoDataFrame(df, geometry=gpd.points_from_xy(df.long_wgs, df.lat_wgs), crs=4326)"
   ]
  },
  {
   "cell_type": "code",
   "execution_count": 8,
   "id": "608075cb-43d1-4e36-8208-6a5f11a12c31",
   "metadata": {},
   "outputs": [
    {
     "data": {
      "text/plain": [
       "<AxesSubplot:>"
      ]
     },
     "execution_count": 8,
     "metadata": {},
     "output_type": "execute_result"
    },
    {
     "data": {
      "image/png": "[encoded data removed]",
      "text/plain": [
       "<Figure size 640x480 with 1 Axes>"
      ]
     },
     "metadata": {},
     "output_type": "display_data"
    }
   ],
   "source": [
    "gdf.plot()"
   ]
  },
  {
   "cell_type": "code",
   "execution_count": null,
   "id": "d05a1a6c-28a3-4631-a077-6497483bc3e7",
   "metadata": {},
   "outputs": [],
   "source": [
    "gdf[gdf.town.isin(['Jersey', 'Guernsey'])].plot()"
   ]
  },
  {
   "cell_type": "code",
   "execution_count": 7,
   "id": "9b96c717-83a3-4369-9071-464024ce3bc7",
   "metadata": {},
   "outputs": [],
   "source": [
    "gdf[(~gdf.county.isna()) & \\\n",
    "    (~gdf.store_name.str.contains('Scilly')) & \\\n",
    "    (gdf.store_name!='Spar Old Town Store')][['id', 'retailer', 'long_wgs', 'lat_wgs', 'size_band', 'size_code']] \\\n",
    "    .to_csv('../data/retail_locations_glxv24_202206.csv', index=False)"
   ]
  },
  {
   "cell_type": "code",
   "execution_count": null,
   "id": "00857b99-019d-4d15-a644-94460c7b5aea",
   "metadata": {},
   "outputs": [],
   "source": []
  },
  {
   "cell_type": "code",
   "execution_count": null,
   "id": "7ddc03b1-d54f-4805-9229-56046babfaa9",
   "metadata": {},
   "outputs": [],
   "source": []
  }
 ],
 "metadata": {
  "kernelspec": {
   "display_name": "geo-dash-env",
   "language": "python",
   "name": "geo-dash-env"
  },
  "language_info": {
   "codemirror_mode": {
    "name": "ipython",
    "version": 3
   },
   "file_extension": ".py",
   "mimetype": "text/x-python",
   "name": "python",
   "nbconvert_exporter": "python",
   "pygments_lexer": "ipython3",
   "version": "3.10.6"
  }
 },
 "nbformat": 4,
 "nbformat_minor": 5
}
