{
 "cells": [
  {
   "cell_type": "code",
   "execution_count": null,
   "id": "3ea661e3-068d-4f98-85c4-65239f83e870",
   "metadata": {},
   "outputs": [],
   "source": [
    "import plotly.graph_objects as go\n",
    "import plotly.express as px"
   ]
  },
  {
   "cell_type": "code",
   "execution_count": null,
   "id": "c2f96bdd-5be8-4fbc-ba17-dc2a55b1247a",
   "metadata": {},
   "outputs": [],
   "source": [
    "\n",
    "df = pd.read_csv('../data/priority_places_v1_1_decile_domains_WGS.csv',\n",
    "                    dtype={'domain_supermarket_proximity':'category',\n",
    "                        'domain_supermarket_transport':'category',\n",
    "                        'domain_ecommerce_access':'category',\n",
    "                        'domain_socio_demographic':'category',\n",
    "                        'domain_nonsupermarket_proximity':'category',\n",
    "                        'domain_food_for_families':'category',\n",
    "                        'domain_fuel_poverty':'category', \n",
    "                        'combined': 'category'}\n",
    ")\n",
    "\n",
    "retailers = pd.read_csv('../data/retail_locations_glxv24_202206.csv')\n",
    "retailers['size_code'] = retailers['size_code'] / 4.\n",
    "\n",
    "colormap = ['#0d0887',\n",
    "            '#41049d',\n",
    "            '#6a00a8',\n",
    "            '#8f0da4',\n",
    "            '#b12a90',\n",
    "            '#c94a79',\n",
    "            '#db6a68',\n",
    "            '#e58858',\n",
    "            '#e8a34a',\n",
    "            '#e1bf40', \n",
    "            '#808080']\n"
   ]
  },
  {
   "cell_type": "code",
   "execution_count": null,
   "id": "441a8d2d-a8a9-4bb4-8a8b-0d9935fc09c7",
   "metadata": {},
   "outputs": [],
   "source": [
    "domain = 'combined'\n",
    "fig = px.scatter_mapbox(\n",
    "                    df, \n",
    "                    lat='latitude',\n",
    "                    lon='longitude', \n",
    "                    color=domain, \n",
    "                    color_discrete_sequence=colormap,\n",
    "                    custom_data=['geo_code', \n",
    "                                 'domain_supermarket_proximity',\n",
    "                                 'domain_supermarket_transport',\n",
    "                                 'domain_ecommerce_access',\n",
    "                                 'domain_socio_demographic',\n",
    "                                 'domain_nonsupermarket_proximity',\n",
    "                                 'domain_food_for_families',\n",
    "                                 'domain_fuel_poverty',\n",
    "                                 'combined'],\n",
    "                    center={'lat': 53.8067, 'lon': -1.5550}, \n",
    "                    category_orders={domain: ['1', '2', '3', '4', '5', '6', '7','8', '9', '10']})\n",
    "\n",
    "fig.update_layout(mapbox_style='carto-positron')\n",
    "fig.update_layout(margin={'r':0, 't':0, 'l':0, 'b':0})\n",
    "fig.update_layout(legend=dict(\n",
    "    yanchor=\"top\",\n",
    "    y=0.95,\n",
    "    xanchor=\"right\",\n",
    "    x=0.99, \n",
    "    itemsizing='constant'\n",
    "))\n",
    "fig.update_layout(legend_title_text='Decile (1 = highest priority)')\n",
    "\n",
    "fig.update_traces(hovertemplate=(\n",
    "                    '<b>Geo Code</b>: %{customdata[0]}<br>'+\\\n",
    "                    'Priority Places Index decile: %{customdata[8]}<br>'+\\\n",
    "                    'Proximity to supermarket retail facilities decile: %{customdata[1]}<br>'+\\\n",
    "                    'Accessibility to supermarket retail facilties decile: %{customdata[2]}<br>'+\\\n",
    "                    'Access to online deliveries decile: %{customdata[3]}<br>'+\\\n",
    "                    'Socio-demographic barriers decile: %{customdata[4]}<br>'+\\\n",
    "                    'Proximity to non-supermarket food provision decile: %{customdata[5]}<br>'+\\\n",
    "                    'Food support for families decile: %{customdata[6]}<br>'+\\\n",
    "                    'Fuel poverty decile: %{customdata[7]}<br>'))\n",
    "fig.update_traces(visible='legendonly', selector=(lambda x: int(x.name) > 1))\n"
   ]
  },
  {
   "cell_type": "code",
   "execution_count": null,
   "id": "44d9cb3e-7cb2-4842-b495-e4133dff855c",
   "metadata": {},
   "outputs": [],
   "source": [
    "fig2 = px.scatter_mapbox(retailers, \n",
    "                         lat='lat_wgs', \n",
    "                         lon='long_wgs', \n",
    "                         color=[11 for i in range(retailers.shape[0])],\n",
    "                         color_discrete_sequence=color_retailers,\n",
    "                         custom_data=['retailer', 'size_band'],\n",
    "                         #size='size_code'\n",
    ")\n",
    "\n",
    "fig.add_trace(fig2.data[0])\n",
    "fig.update_layout(coloraxis_showscale=False)\n"
   ]
  },
  {
   "cell_type": "code",
   "execution_count": null,
   "id": "3626be8b-7fc9-498b-9656-8b3504d4dde1",
   "metadata": {},
   "outputs": [],
   "source": [
    "\n"
   ]
  },
  {
   "cell_type": "code",
   "execution_count": null,
   "id": "c681a0bf-8798-4c91-8dd9-2f56a9b0ab21",
   "metadata": {},
   "outputs": [],
   "source": [
    "fig.data[10]"
   ]
  },
  {
   "cell_type": "code",
   "execution_count": null,
   "id": "268735a3-c28c-40ef-af47-74e417dfa15f",
   "metadata": {},
   "outputs": [],
   "source": [
    "fig.data[10]['marker'] = {'color': '#808080', 'opacity':0.2}"
   ]
  },
  {
   "cell_type": "code",
   "execution_count": null,
   "id": "5b58fd7e-096b-44cf-9478-8520f7bb41fb",
   "metadata": {},
   "outputs": [],
   "source": [
    "fig"
   ]
  },
  {
   "cell_type": "code",
   "execution_count": null,
   "id": "1a651ab3-7852-4445-8393-bed27afde161",
   "metadata": {},
   "outputs": [],
   "source": []
  }
 ],
 "metadata": {
  "kernelspec": {
   "display_name": "geo-dash-env",
   "language": "python",
   "name": "geo-dash-env"
  },
  "language_info": {
   "codemirror_mode": {
    "name": "ipython",
    "version": 3
   },
   "file_extension": ".py",
   "mimetype": "text/x-python",
   "name": "python",
   "nbconvert_exporter": "python",
   "pygments_lexer": "ipython3",
   "version": "3.10.6"
  }
 },
 "nbformat": 4,
 "nbformat_minor": 5
}
