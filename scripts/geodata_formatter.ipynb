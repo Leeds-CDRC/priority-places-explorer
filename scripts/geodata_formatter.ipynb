{
 "cells": [
  {
   "cell_type": "markdown",
   "id": "cec6f062-a046-478c-ad4d-ca5a435438a1",
   "metadata": {},
   "source": [
    "# Geographic data formatting for Priority Places Explorer\n",
    "\n",
    "This notebook contains code that prepares the geographic data for use within the [Priority Places Explorer](https://priorityplaces.cdrc.ac.uk/) tool. Population weighted centroids for each geographic area contained within the [Priority Places for Food Index](https://data.cdrc.ac.uk/dataset/priority-places-food-index) are used within the associated visualisation. \n",
    "\n",
    "The source centroid data can be downloaded from the following links:\n",
    "\n",
    "1. [Scotland Data Zone 2011 population weighted centroids](https://www.data.gov.uk/dataset/8aabd120-6e15-41bf-be7c-2536cbc4b2e5/data-zone-centroids-2011)\n",
    "2. [England and Wales LSOA 2011 population weighted centroids](https://geoportal.statistics.gov.uk/datasets/ons::lsoa-dec-2011-population-weighted-centroids-in-england-and-wales/)\n",
    "3. [Northern Ireland Super Output Area boundaries](https://www.nisra.gov.uk/publications/super-output-area-boundaries-gis-format)\n",
    "\n",
    "The below code also requires the Priority Places for Food Index data to be stored within the directory given by the `data_directory` variable.\n",
    "\n",
    "This notebook also formats the [GEOLYTIX UK Retail Points](https://geolytix.com/blog/supermarket-retail-points/) data for use within the retailer toggle button within the Priority Places Explorer tool. \n",
    "\n",
    "Before running the below code, ensure that the file names within your data_directory match with the file names shown. \n"
   ]
  },
  {
   "cell_type": "code",
   "execution_count": null,
   "id": "9820343d-ff28-423b-9749-9a010a8c0997",
   "metadata": {},
   "outputs": [],
   "source": [
    "import pandas as pd\n",
    "import geopandas as gpd\n",
    "\n",
    "# Configure the data directory where the source data has been downloaded.\n",
    "data_directory = '/data/'"
   ]
  },
  {
   "cell_type": "code",
   "execution_count": null,
   "id": "ba14e16d-d1f1-49c2-96f1-c149407b224c",
   "metadata": {},
   "outputs": [],
   "source": [
    "# Load Scotland data\n",
    "gdf_scotland = gpd.read_file(data_directory + 'SG_DataZoneCent_2011/SG_DataZone_Cent_2011.shp')\n",
    "gdf_scotland = gdf_scotland.to_crs('EPSG:4326')\n",
    "gdf_scotland['longitude'] = gdf_scotland.geometry.x\n",
    "gdf_scotland['latitude'] = gdf_scotland.geometry.y\n",
    "\n",
    "# Load England and Wales data\n",
    "df_ew = pd.read_csv(data_directory + 'Lower_layer_Super_Output_Areas_(December_2011)_Population_Weighted_Centroids.csv')\n",
    "gdf_ew = gpd.GeoDataFrame(df_ew, geometry=gpd.points_from_xy(df_ew['X'], df_ew['Y']), crs='EPSG:27700')\n",
    "gdf_ew = gdf_ew.to_crs(4326)\n",
    "gdf_ew['longitude'] = gdf_ew.geometry.x\n",
    "gdf_ew['latitude'] = gdf_ew.geometry.y\n",
    "\n",
    "# Load Northern Ireland data\n",
    "gdf_ni = gpd.read_file(data_directory + 'SOA2011_Esri_Shapefile_0.zip')\n",
    "gdf_ni.geometry = gdf_ni.geometry.centroid\n",
    "gdf_ni = gdf_ni.to_crs(4326)\n",
    "gdf_ni['lon'] = gdf_ni.geometry.x\n",
    "gdf_ni['lat'] = gdf_ni.geometry.y\n",
    "\n",
    "# Merge dataframes\n",
    "pp_data = pd.read_csv(data_directory + 'priority_places_for_food_oct22.csv', index_col=0)\n",
    "pp_data = pp_data.reset_index().rename({'index':'geo_code'}, axis=1)\n",
    "\n",
    "pp_data = pp_data.merge(gdf_ew[['longitude', 'latitude', 'objectid', 'lsoa11cd', 'lsoa11nm']], left_on='geo_code', right_on='lsoa11cd', how='left')\n",
    "pp_data = pp_data.merge(gdf_scotland, left_on='geo_code', right_on='DataZone', how='left')\n",
    "pp_data = pp_data.merge(gdf_ni, left_on='geo_code', right_on='SOA_CODE', how='left')\n",
    "\n",
    "# Lon/lats column mapping\n",
    "pp_data['geo_label'] = pp_data['lsoa11nm'].fillna(pp_data['Name']).fillna(pp_data['SOA_LABEL'])\n",
    "pp_data['longitude'] = pp_data['longitude_x'].fillna(pp_data['longitude_y'])\n",
    "pp_data['latitude'] = pp_data['latitude_x'].fillna(pp_data['latitude_y'])\n",
    "pp_data['longitude'] = pp_data['longitude'].fillna(pp_data['lon'])\n",
    "pp_data['latitude'] = pp_data['latitude'].fillna(pp_data['lat'])\n",
    "\n",
    "# Filter to columns of interest\n",
    "pp_data = pp_data[['geo_code', 'geo_label', 'longitude', 'latitude'] + pp_data.columns[pp_data.columns.str.startswith('pp_dec')].tolist()]\n",
    "\n",
    "# Convert to integer datatypes (rather than float)\n",
    "pp_data.loc[:, pp_data.columns[pp_data.columns.str.startswith('pp_dec')].tolist()] = pp_data[pp_data.columns[pp_data.columns.str.startswith('pp_dec')].tolist()].astype('Int64')\n",
    "\n",
    "# Save resulting dataframe\n",
    "pp_data.to_csv(data_directory + 'priority_places_Oct2022_decile_domains_WGS.csv')"
   ]
  },
  {
   "cell_type": "code",
   "execution_count": null,
   "id": "27ff7b8a-6fc1-40e5-8f1d-4de4ecdbfe3f",
   "metadata": {},
   "outputs": [],
   "source": [
    "# Load Geolytix retail points data\n",
    "retail_df = pd.read_csv(data_directory + 'GEOLYTIX - UK RetailPoints/uk_glx_open_retail_points_v24_202206.csv')\n",
    "retail_df.loc[retail_df['size_band']=='< 3,013 ft2 (280m2)','size_code'] = 'Small convenience'\n",
    "retail_df.loc[retail_df['size_band']=='3,013 < 15,069 ft2 (280 < 1,400 m2)', 'size_code'] = 'Mid-size'\n",
    "retail_df.loc[retail_df['size_band']=='15,069 < 30,138 ft2 (1,400 < 2,800 m2)', 'size_code'] = 'Large'\n",
    "retail_df.loc[retail_df['size_band']=='30,138 ft2 > (2,800 m2)', 'size_code'] = 'Very large'\n",
    "\n",
    "retail_df[(~retail_df.county.isna()) & \\\n",
    "    (~retail_df.store_name.str.contains('Scilly')) & \\\n",
    "    (retail_df.store_name!='Spar Old Town Store')][['id', 'retailer', 'long_wgs', 'lat_wgs', 'size_band', 'size_code']] \\\n",
    ".to_csv(data_directory + 'retail_locations_glxv24_202206.csv', index=False)"
   ]
  }
 ],
 "metadata": {
  "kernelspec": {
   "display_name": "Python 3 (ipykernel)",
   "language": "python",
   "name": "python3"
  },
  "language_info": {
   "codemirror_mode": {
    "name": "ipython",
    "version": 3
   },
   "file_extension": ".py",
   "mimetype": "text/x-python",
   "name": "python",
   "nbconvert_exporter": "python",
   "pygments_lexer": "ipython3",
   "version": "3.11.0"
  }
 },
 "nbformat": 4,
 "nbformat_minor": 5
}
